{
 "cells": [
  {
   "cell_type": "code",
   "execution_count": 1,
   "metadata": {
    "collapsed": true
   },
   "outputs": [],
   "source": [
    "import numpy as np\n",
    "import pandas as pd\n",
    "from sklearn.utils import shuffle\n",
    "from sklearn.ensemble import RandomForestClassifier, GradientBoostingClassifier\n",
    "from sklearn.model_selection import cross_val_score\n",
    "from sklearn.svm import SVC\n",
    "import matplotlib.pyplot as plt\n",
    "%matplotlib inline"
   ]
  },
  {
   "cell_type": "code",
   "execution_count": 2,
   "metadata": {
    "collapsed": true
   },
   "outputs": [],
   "source": [
    "data = np.load('meta_dataset.npz')"
   ]
  },
  {
   "cell_type": "code",
   "execution_count": 3,
   "metadata": {
    "collapsed": true
   },
   "outputs": [],
   "source": [
    "X = data['X']\n",
    "H = data['H']\n",
    "A = data['A']\n",
    "Y = data['y']\n",
    "D = data['D']\n",
    "X, H, A, Y, D = shuffle(X, H, A, Y, D, random_state=42)"
   ]
  },
  {
   "cell_type": "code",
   "execution_count": 8,
   "metadata": {},
   "outputs": [
    {
     "data": {
      "text/plain": [
       "array(['SGDClassifier', 'SGDClassifier', 'SGDClassifier',\n",
       "       'GradientBoostingClassifier', 'SGDClassifier', 'SGDClassifier',\n",
       "       'SGDClassifier', 'SGDClassifier', 'SGDClassifier',\n",
       "       'DecisionTreeClassifier', 'SGDClassifier', 'RandomForestClassifier',\n",
       "       'SGDClassifier', 'SGDClassifier', 'ExtraTreesClassifier',\n",
       "       'SGDClassifier', 'SGDClassifier', 'GradientBoostingClassifier',\n",
       "       'SGDClassifier', 'GradientBoostingClassifier', 'SGDClassifier',\n",
       "       'SGDClassifier', 'SGDClassifier', 'SGDClassifier', 'SGDClassifier',\n",
       "       'GradientBoostingClassifier', 'SGDClassifier', 'SGDClassifier',\n",
       "       'GradientBoostingClassifier', 'GradientBoostingClassifier',\n",
       "       'SGDClassifier', 'SGDClassifier', 'SGDClassifier', 'SGDClassifier',\n",
       "       'SGDClassifier', 'RandomForestClassifier', 'SGDClassifier',\n",
       "       'SGDClassifier', 'SGDClassifier', 'SGDClassifier', 'SGDClassifier',\n",
       "       'SGDClassifier', 'SGDClassifier', 'SGDClassifier', 'SGDClassifier',\n",
       "       'RandomForestClassifier', 'SGDClassifier', 'SGDClassifier',\n",
       "       'SGDClassifier', 'SGDClassifier', 'SGDClassifier',\n",
       "       'GradientBoostingClassifier', 'SGDClassifier', 'SGDClassifier',\n",
       "       'GradientBoostingClassifier', 'SGDClassifier', 'SGDClassifier',\n",
       "       'ExtraTreesClassifier', 'SGDClassifier', 'SGDClassifier',\n",
       "       'SGDClassifier', 'SGDClassifier', 'SGDClassifier', 'SGDClassifier',\n",
       "       'SGDClassifier', 'SGDClassifier', 'SGDClassifier', 'SGDClassifier',\n",
       "       'SGDClassifier', 'SGDClassifier', 'SGDClassifier', 'SGDClassifier',\n",
       "       'SGDClassifier', 'SGDClassifier', 'GradientBoostingClassifier',\n",
       "       'SGDClassifier', 'SGDClassifier', 'GradientBoostingClassifier',\n",
       "       'ExtraTreesClassifier', 'SGDClassifier', 'SGDClassifier',\n",
       "       'SGDClassifier', 'SGDClassifier', 'SGDClassifier', 'SGDClassifier',\n",
       "       'SGDClassifier', 'SGDClassifier', 'ExtraTreesClassifier',\n",
       "       'SGDClassifier', 'SGDClassifier', 'SGDClassifier', 'SGDClassifier',\n",
       "       'GradientBoostingClassifier', 'GradientBoostingClassifier',\n",
       "       'SGDClassifier', 'SGDClassifier', 'SGDClassifier', 'SGDClassifier',\n",
       "       'SGDClassifier', 'GradientBoostingClassifier'],\n",
       "      dtype='<U27')"
      ]
     },
     "execution_count": 8,
     "metadata": {},
     "output_type": "execute_result"
    }
   ],
   "source": [
    "A[0:100]"
   ]
  },
  {
   "cell_type": "code",
   "execution_count": 10,
   "metadata": {},
   "outputs": [
    {
     "data": {
      "text/plain": [
       "array(['SGDClassifier', 'GradientBoostingClassifier',\n",
       "       'DecisionTreeClassifier', 'RandomForestClassifier',\n",
       "       'ExtraTreesClassifier'],\n",
       "      dtype='<U27')"
      ]
     },
     "execution_count": 10,
     "metadata": {},
     "output_type": "execute_result"
    }
   ],
   "source": [
    "A[[0, 3, 9, 11, 14]]"
   ]
  },
  {
   "cell_type": "code",
   "execution_count": null,
   "metadata": {
    "collapsed": true
   },
   "outputs": [],
   "source": [
    "#f = (D == 'yeast') * (A == 'SGDClassifier')\n",
    "#f = Y > 0.999\n",
    "#f = Y>0\n",
    "f = Y==1.0\n",
    "Xf = X[f]\n",
    "Hf = H[f]\n",
    "Af = A[f]\n",
    "Yf = Y[f]\n",
    "Df = D[f]"
   ]
  },
  {
   "cell_type": "code",
   "execution_count": null,
   "metadata": {
    "collapsed": true
   },
   "outputs": [],
   "source": [
    "train_datasets = [\n",
    "       'GAMETES_Epistasis_2-Way_1000atts_0.4H_EDM-1_EDM-1_1',\n",
    "       'hayes-roth', 'heart-c', 'heart-h', 'heart-statlog', 'hepatitis',\n",
    "       'horse-colic', 'house-votes-84', 'hungarian', 'hypothyroid',\n",
    "       'ionosphere', 'iris', 'irish', 'kddcup', 'kr-vs-kp', 'krkopt',\n",
    "       'labor', 'led24', 'led7', 'letter', 'liver-disorder', 'lupus',\n",
    "       'lymphography', 'magic', 'mfeat-factors', 'mfeat-fourier',\n",
    "       'mfeat-karhunen', 'mfeat-morphological', 'mfeat-pixel',\n",
    "       'mfeat-zernike', 'mnist', 'mofn-3-7-10',\n",
    "       'molecular-biology_promoters', 'monk1', 'monk2', 'monk3',\n",
    "       'movement_libras', 'mushroom', 'mux6', 'new-thyroid', 'nursery',\n",
    "       'optdigits', 'page-blocks', 'parity5', 'parity5+5', 'pendigits',\n",
    "       'phoneme', 'pima', 'poker', 'postoperative-patient-data',\n",
    "       'prnn_crabs', 'prnn_fglass', 'prnn_synth', 'profb', 'promoters',\n",
    "       'ring', 'saheart', 'satimage', 'schizo', 'segmentation', 'shuttle',\n",
    "       'sleep', 'solar-flare_1', 'solar-flare_2', 'sonar', 'soybean',\n",
    "       'spambase', 'spect', 'spectf', 'splice', 'tae', 'texture',\n",
    "       'threeOf9', 'tic-tac-toe', 'titanic', 'tokyo1', 'twonorm',\n",
    "       'vehicle', 'vote', 'vowel', 'waveform-21', 'waveform-40', 'wdbc',\n",
    "       'wine-quality-red', 'wine-quality-white', 'wine-recognition', 'xd6',\n",
    "       'yeast'\n",
    "]\n",
    "test_datasets = [\n",
    "       'GAMETES_Epistasis_2-Way_20atts_0.1H_EDM-1_1',\n",
    "       'GAMETES_Epistasis_2-Way_20atts_0.4H_EDM-1_1',\n",
    "       'GAMETES_Epistasis_3-Way_20atts_0.2H_EDM-1_1',\n",
    "       'GAMETES_Heterogeneity_20atts_1600_Het_0.4_0.2_50_EDM-2_001',\n",
    "       'GAMETES_Heterogeneity_20atts_1600_Het_0.4_0.2_75_EDM-2_001',\n",
    "       'Hill_Valley_with_noise', 'Hill_Valley_without_noise', 'adult',\n",
    "       'agaricus-lepiota', 'allbp', 'allhyper', 'allhypo', 'allrep',\n",
    "       'analcatdata_aids', 'analcatdata_asbestos',\n",
    "       'analcatdata_authorship', 'analcatdata_bankruptcy',\n",
    "       'analcatdata_boxing1', 'analcatdata_boxing2',\n",
    "       'analcatdata_creditscore', 'analcatdata_cyyoung8092',\n",
    "       'analcatdata_cyyoung9302', 'analcatdata_dmft', 'analcatdata_fraud',\n",
    "       'analcatdata_germangss', 'analcatdata_happiness',\n",
    "       'analcatdata_japansolvent', 'analcatdata_lawsuit', 'ann-thyroid',\n",
    "       'appendicitis', 'australian', 'auto', 'backache', 'balance-scale',\n",
    "       'banana', 'biomed', 'breast', 'breast-cancer',\n",
    "       'breast-cancer-wisconsin', 'breast-w', 'buggyCrx', 'bupa',\n",
    "       'calendarDOW', 'car', 'car-evaluation', 'cars', 'cars1', 'chess',\n",
    "       'churn', 'clean1', 'clean2', 'cleve', 'cleveland',\n",
    "       'cleveland-nominal', 'cloud', 'cmc', 'coil2000', 'colic', 'collins',\n",
    "       'confidence', 'connect-4', 'contraceptive', 'corral', 'credit-a',\n",
    "       'credit-g', 'crx', 'dermatology', 'diabetes', 'dis', 'dna', 'ecoli',\n",
    "       'fars', 'flags', 'flare', 'german', 'glass', 'glass2', 'haberman'\n",
    "]\n",
    "    \n",
    "train = np.array([d in train_datasets for d in Df])\n",
    "test = np.array([d in test_datasets for d in Df])\n",
    "\n",
    "Xtrain = Xf[train]\n",
    "Ytrain = Af[train]\n",
    "Rtrain = Yf[train]\n",
    "\n",
    "Xtest = Xf[test]\n",
    "Ytest = Af[test]"
   ]
  },
  {
   "cell_type": "code",
   "execution_count": null,
   "metadata": {
    "collapsed": true
   },
   "outputs": [],
   "source": [
    "clf = RandomForestClassifier(max_depth=5)\n",
    "clf.fit(Xtrain, Ytrain)\n",
    "print((clf.predict(Xtrain)==Ytrain).mean())"
   ]
  },
  {
   "cell_type": "code",
   "execution_count": null,
   "metadata": {
    "collapsed": true
   },
   "outputs": [],
   "source": [
    "(clf.predict(Xtest) == Ytest).mean()"
   ]
  },
  {
   "cell_type": "code",
   "execution_count": null,
   "metadata": {
    "collapsed": true
   },
   "outputs": [],
   "source": [
    "clf.predict(Xtest)[0:1000]"
   ]
  },
  {
   "cell_type": "code",
   "execution_count": null,
   "metadata": {
    "collapsed": true
   },
   "outputs": [],
   "source": [
    "import seaborn as sns\n",
    "fig = plt.figure(figsize=(30, 10))\n",
    "sns.barplot(x=Af, y=np.ones(len(Af)), estimator=lambda x:x.sum())"
   ]
  },
  {
   "cell_type": "code",
   "execution_count": null,
   "metadata": {
    "collapsed": true
   },
   "outputs": [],
   "source": []
  }
 ],
 "metadata": {
  "anaconda-cloud": {},
  "kernelspec": {
   "display_name": "Python [conda env:py3]",
   "language": "python",
   "name": "conda-env-py3-py"
  },
  "language_info": {
   "codemirror_mode": {
    "name": "ipython",
    "version": 3
   },
   "file_extension": ".py",
   "mimetype": "text/x-python",
   "name": "python",
   "nbconvert_exporter": "python",
   "pygments_lexer": "ipython3",
   "version": "3.5.2"
  }
 },
 "nbformat": 4,
 "nbformat_minor": 2
}
